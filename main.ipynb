{
 "cells": [
  {
   "cell_type": "markdown",
   "metadata": {},
   "source": [
    "### Installs and imports"
   ]
  },
  {
   "cell_type": "code",
   "execution_count": 2,
   "metadata": {},
   "outputs": [],
   "source": [
    "import os\n",
    "import re\n",
    "from typing import List\n",
    "\n",
    "import camelot\n",
    "import cv2\n",
    "import pandas as pd\n",
    "from PIL import Image\n",
    "\n",
    "os.environ['PYTORCH_CUDA_ALLOC_CONF'] = 'expandable_segments:True'"
   ]
  },
  {
   "cell_type": "code",
   "execution_count": 12,
   "metadata": {},
   "outputs": [
    {
     "data": {
      "text/plain": [
       "['data/pdf1/cropped_images/2-3_Title.png',\n",
       " 'data/pdf1/cropped_images/2-4_Text.png',\n",
       " 'data/pdf1/cropped_images/2-5_Text.png',\n",
       " 'data/pdf1/cropped_images/2-6_Text.png',\n",
       " 'data/pdf1/cropped_images/2-7_Text.png',\n",
       " 'data/pdf1/cropped_images/2-8_Text.png',\n",
       " 'data/pdf1/cropped_images/2-9_Section-header.png',\n",
       " 'data/pdf1/cropped_images/2-10_Text.png',\n",
       " 'data/pdf1/cropped_images/2-11_Text.png',\n",
       " 'data/pdf1/cropped_images/2-12_Text.png',\n",
       " 'data/pdf1/cropped_images/2-13_Text.png',\n",
       " 'data/pdf1/cropped_images/2-14_Text.png',\n",
       " 'data/pdf1/cropped_images/3-3_Text.png',\n",
       " 'data/pdf1/cropped_images/3-4_Text.png',\n",
       " 'data/pdf1/cropped_images/3-5_Text.png',\n",
       " 'data/pdf1/cropped_images/3-6_Text.png',\n",
       " 'data/pdf1/cropped_images/3-7_Section-header.png',\n",
       " 'data/pdf1/cropped_images/3-8_Text.png',\n",
       " 'data/pdf1/cropped_images/3-9_Text.png',\n",
       " 'data/pdf1/cropped_images/3-10_Text.png',\n",
       " 'data/pdf1/cropped_images/3-11_Text.png',\n",
       " 'data/pdf1/cropped_images/3-12_Text.png',\n",
       " 'data/pdf1/cropped_images/3-13_Text.png',\n",
       " 'data/pdf1/cropped_images/3-14_Text.png',\n",
       " 'data/pdf1/cropped_images/3-15_Text.png',\n",
       " 'data/pdf1/cropped_images/3-17_Text.png',\n",
       " 'data/pdf1/cropped_images/4-0_Text.png',\n",
       " 'data/pdf1/cropped_images/4-3_Section-header.png',\n",
       " 'data/pdf1/cropped_images/4-4_Text.png',\n",
       " 'data/pdf1/cropped_images/4-5_Text.png',\n",
       " 'data/pdf1/cropped_images/4-6_Text.png',\n",
       " 'data/pdf1/cropped_images/4-7_Text.png',\n",
       " 'data/pdf1/cropped_images/4-8_Section-header.png',\n",
       " 'data/pdf1/cropped_images/4-9_Text.png',\n",
       " 'data/pdf1/cropped_images/4-10_Text.png',\n",
       " 'data/pdf1/cropped_images/4-11_Text.png',\n",
       " 'data/pdf1/cropped_images/4-12_Text.png',\n",
       " 'data/pdf1/cropped_images/4-13_Text.png',\n",
       " 'data/pdf1/cropped_images/4-14_Text.png',\n",
       " 'data/pdf1/cropped_images/5-0_Text.png',\n",
       " 'data/pdf1/cropped_images/5-5_Section-header.png',\n",
       " 'data/pdf1/cropped_images/5-6_Section-header.png',\n",
       " 'data/pdf1/cropped_images/5-8_Text.png',\n",
       " 'data/pdf1/cropped_images/5-10_Text.png',\n",
       " 'data/pdf1/cropped_images/6-2_Title.png',\n",
       " 'data/pdf1/cropped_images/6-4_Section-header.png',\n",
       " 'data/pdf1/cropped_images/6-5_Text.png',\n",
       " 'data/pdf1/cropped_images/6-6_Text.png',\n",
       " 'data/pdf1/cropped_images/6-7_Text.png',\n",
       " 'data/pdf1/cropped_images/6-8_Text.png',\n",
       " 'data/pdf1/cropped_images/6-9_Text.png',\n",
       " 'data/pdf1/cropped_images/6-10_Text.png',\n",
       " 'data/pdf1/cropped_images/6-11_Section-header.png',\n",
       " 'data/pdf1/cropped_images/6-12_Text.png',\n",
       " 'data/pdf1/cropped_images/6-13_Text.png',\n",
       " 'data/pdf1/cropped_images/6-17_Text.png']"
      ]
     },
     "execution_count": 12,
     "metadata": {},
     "output_type": "execute_result"
    }
   ],
   "source": [
    "import re\n",
    "import os\n",
    "\n",
    "\n",
    "def extract_number(path):\n",
    "    filename = path.split('/')[-1]  # Get the filename part\n",
    "    return [int(s) if s.isdigit() else s for s in re.split(r'(\\d+)', filename)]\n",
    "\n",
    "text_paths = [\n",
    "\t\t\t\tf\"data/pdf1/cropped_images/{path}\"\n",
    "\t\t\t\tfor path in os.listdir('data/pdf1/cropped_images')\n",
    "\t\t\t\tif not path.endswith(\"_Table.png\")\n",
    "\t\t]\n",
    "\n",
    "sorted(text_paths, key=extract_number)"
   ]
  },
  {
   "cell_type": "markdown",
   "metadata": {},
   "source": [
    "### Initialize OCR models"
   ]
  },
  {
   "cell_type": "code",
   "execution_count": 3,
   "metadata": {},
   "outputs": [],
   "source": [
    "from surya.input.load import load_pdf\n",
    "\n",
    "def pdf_to_png(path: str):\n",
    "\toutput_dir = 'original_images'\n",
    "\n",
    "\tif not os.path.exists(output_dir):\n",
    "\t\tos.makedirs(output_dir)\n",
    "\t\n",
    "\timgs, _ = load_pdf(path, start_page=1)\n",
    "\t_ = [img.save(f'{output_dir}/{idx}.png') for idx, img in enumerate(imgs, 2)]"
   ]
  },
  {
   "cell_type": "code",
   "execution_count": 4,
   "metadata": {},
   "outputs": [
    {
     "name": "stdout",
     "output_type": "stream",
     "text": [
      "Loading detection model vikp/surya_det2 on device cuda with dtype torch.float16\n",
      "Loading recognition model vikp/surya_rec on device cuda with dtype torch.float16\n"
     ]
    }
   ],
   "source": [
    "from surya.ocr import run_ocr\n",
    "from surya.model.detection import segformer\n",
    "from surya.model.recognition.model import load_model\n",
    "from surya.model.recognition.processor import load_processor\n",
    "from surya.input.load import load_pdf\n",
    "\n",
    "det_processor, det_model = segformer.load_processor(), segformer.load_model()\n",
    "rec_model, rec_processor = load_model(), load_processor()\n",
    "\n",
    "def run_surya(imgs: List):\n",
    "  images = [Image.open(path) for path in paths]\n",
    "  langs = [[\"ar\"]] * len(images)\n",
    "\n",
    "  return run_ocr(images, langs, det_model, det_processor, rec_model, rec_processor)"
   ]
  },
  {
   "cell_type": "markdown",
   "metadata": {},
   "source": [
    "### Clean tables"
   ]
  },
  {
   "cell_type": "code",
   "execution_count": 5,
   "metadata": {},
   "outputs": [],
   "source": [
    "headers = [\"التفير %\", \"العام المالي 2021\", \"العام المالي 2022\", \"مليون ريال سعودي\"]"
   ]
  },
  {
   "cell_type": "code",
   "execution_count": 6,
   "metadata": {},
   "outputs": [],
   "source": [
    "def is_number(substring):\n",
    "  cleaned_substring = re.sub(r\"\\s*\\.?\\s*\", \"\", substring)\n",
    "  try:\n",
    "    cleaned_substring = cleaned_substring.strip(\"()\")\n",
    "    cleaned_substring = cleaned_substring.replace(\",\", \"\")\n",
    "    float(cleaned_substring.replace(\"%\", \"\"))\n",
    "    return True\n",
    "  except ValueError:\n",
    "    return False"
   ]
  },
  {
   "cell_type": "code",
   "execution_count": 7,
   "metadata": {},
   "outputs": [],
   "source": [
    "def clean_text(df: pd.DataFrame, slice=False):\n",
    "  if not slice:\n",
    "    df.iloc[:, 3] =  df.iloc[:, 3].str.replace('\\n', '')\n",
    "  else:\n",
    "    df['التفير %'] = df['التفير %'].str[:-2]\n",
    "\n",
    "  return df"
   ]
  },
  {
   "cell_type": "markdown",
   "metadata": {},
   "source": [
    "### Layout analysis"
   ]
  },
  {
   "cell_type": "code",
   "execution_count": 5,
   "metadata": {},
   "outputs": [],
   "source": [
    "pdf_to_png('data/pdf1/Press Release - 2022 Results (Stock Market).pdf')"
   ]
  },
  {
   "cell_type": "code",
   "execution_count": 6,
   "metadata": {},
   "outputs": [
    {
     "name": "stdout",
     "output_type": "stream",
     "text": [
      "Loading detection model vikp/surya_layout2 on device cuda with dtype torch.float16\n",
      "Loading detection model vikp/surya_det2 on device cuda with dtype torch.float16\n"
     ]
    },
    {
     "name": "stderr",
     "output_type": "stream",
     "text": [
      "Detecting bboxes: 100%|██████████| 1/1 [00:00<00:00,  1.06it/s]\n",
      "Detecting bboxes: 100%|██████████| 1/1 [00:00<00:00,  1.98it/s]\n"
     ]
    }
   ],
   "source": [
    "from PIL import Image\n",
    "from surya.detection import batch_text_detection\n",
    "from surya.layout import batch_layout_detection\n",
    "from surya.model.detection.segformer import load_model, load_processor\n",
    "from surya.settings import settings\n",
    "\n",
    "paths = sorted([f'original_images/{path}' for path in os.listdir('original_images')])\n",
    "images = [Image.open(path) for path in paths]\n",
    "model = load_model(checkpoint=settings.LAYOUT_MODEL_CHECKPOINT)\n",
    "processor = load_processor(checkpoint=settings.LAYOUT_MODEL_CHECKPOINT)\n",
    "det_model = load_model()\n",
    "det_processor = load_processor()\n",
    "\n",
    "line_predictions = batch_text_detection(images, det_model, det_processor)\n",
    "layout_predictions = batch_layout_detection(images, model, processor, line_predictions)"
   ]
  },
  {
   "cell_type": "code",
   "execution_count": null,
   "metadata": {},
   "outputs": [],
   "source": [
    "%matplotlib inline\n",
    "import matplotlib.pyplot as plt\n",
    "\n",
    "image = cv2.imread('original_images/2.png')\n",
    "\n",
    "def draw_bbox(image, bbox, label, color):\n",
    "    x1, y1, x2, y2 = bbox\n",
    "    cv2.rectangle(image, (x1, y1), (x2, y2), color, 2)\n",
    "    cv2.putText(image, label, (x1, y1 - 10), cv2.FONT_HERSHEY_SIMPLEX, 0.5, color, 2)\n",
    "\n",
    "label_colors = {\n",
    "    'Page-footer': (0, 0, 255),\n",
    "    'Page-header': (0, 255, 0),\n",
    "    'Figure': (255, 0, 0),\n",
    "    'Section-header': (255, 255, 0),\n",
    "    'Text': (0, 255, 255),\n",
    "    'Title': (255, 0, 255)\n",
    "}\n",
    "\n",
    "for bbox in layout_predictions[0].bboxes:\n",
    "    label = bbox.label\n",
    "    color = label_colors.get(label, (0, 0, 0))\n",
    "    draw_bbox(image, bbox.bbox, label, color)\n",
    "\n",
    "# cv2.imshow('image', image)\n",
    "plt.imshow(cv2.cvtColor(image, cv2.COLOR_BGR2RGB))\n",
    "plt.show()"
   ]
  },
  {
   "cell_type": "markdown",
   "metadata": {},
   "source": [
    "### Reading order"
   ]
  },
  {
   "cell_type": "code",
   "execution_count": 15,
   "metadata": {},
   "outputs": [
    {
     "name": "stdout",
     "output_type": "stream",
     "text": [
      "Loading reading order model vikp/surya_order on device cuda with dtype torch.float16\n"
     ]
    },
    {
     "name": "stderr",
     "output_type": "stream",
     "text": [
      "Finding reading order: 100%|██████████| 1/1 [00:00<00:00,  4.67it/s]\n"
     ]
    }
   ],
   "source": [
    "from PIL import Image\n",
    "from surya.ordering import batch_ordering\n",
    "from surya.model.ordering.processor import load_processor\n",
    "from surya.model.ordering.model import load_model\n",
    "\n",
    "image = Image.open('original_images/2.png')\n",
    "# bboxes should be a list of lists with layout bboxes for the image in [x1,y1,x2,y2] format\n",
    "# You can get this from the layout model, see above for usage\n",
    "bboxes = [bbox.bbox for bbox in layout_predictions[0].bboxes]\n",
    "\n",
    "model = load_model()\n",
    "processor = load_processor()\n",
    "\n",
    "# order_predictions will be a list of dicts, one per image\n",
    "order_predictions = batch_ordering([image], [bboxes], model, processor)"
   ]
  },
  {
   "cell_type": "code",
   "execution_count": null,
   "metadata": {},
   "outputs": [],
   "source": [
    "ll = [(bbox_1.position, bbox_2.label, bbox_2.bbox) for bbox_1, bbox_2 in zip(order_predictions[0].bboxes, layout_predictions[0].bboxes)]\n",
    "sorted_list = sorted(ll, key=lambda x: x[0])\n",
    "sorted_list"
   ]
  },
  {
   "cell_type": "code",
   "execution_count": 30,
   "metadata": {},
   "outputs": [
    {
     "name": "stdout",
     "output_type": "stream",
     "text": [
      "Loading reading order model vikp/surya_order on device cuda with dtype torch.float16\n"
     ]
    },
    {
     "name": "stderr",
     "output_type": "stream",
     "text": [
      "Finding reading order: 100%|██████████| 1/1 [00:00<00:00,  5.02it/s]\n",
      "Finding reading order: 100%|██████████| 1/1 [00:00<00:00,  4.90it/s]\n",
      "Finding reading order: 100%|██████████| 1/1 [00:00<00:00,  5.09it/s]\n",
      "Finding reading order: 100%|██████████| 1/1 [00:00<00:00,  5.75it/s]\n",
      "Finding reading order: 100%|██████████| 1/1 [00:00<00:00,  4.98it/s]\n"
     ]
    }
   ],
   "source": [
    "from surya.ordering import batch_ordering\n",
    "from surya.model.ordering.processor import load_processor\n",
    "from surya.model.ordering.model import load_model\n",
    "\n",
    "model = load_model()\n",
    "processor = load_processor()\n",
    "pages_blocks = []\n",
    "\n",
    "for page_num in range(len(layout_predictions)):\n",
    "\timage = Image.open(f'original_images/{page_num+2}.png')\n",
    "\tbboxes = [bbox.bbox for bbox in layout_predictions[page_num].bboxes]\n",
    "\torder_predictions = batch_ordering([image], [bboxes], model, processor)\n",
    "\t\n",
    "\tll = [(bbox_1.position, bbox_2.label, bbox_2.bbox) for bbox_1, bbox_2 in zip(order_predictions[0].bboxes, layout_predictions[page_num].bboxes)]\n",
    "\tsorted_list = sorted(ll, key=lambda x: x[0])\n",
    "\tpages_blocks.append(sorted_list)"
   ]
  },
  {
   "cell_type": "code",
   "execution_count": 36,
   "metadata": {},
   "outputs": [],
   "source": [
    "paths = sorted([f'original_images/{path}' for path in os.listdir('original_images')])\n",
    "images = [cv2.imread(path) for path in paths]\n",
    "output_dir = 'cropped_images'\n",
    "table_locations = []\n",
    "figure_locations = []\n",
    "\n",
    "if not os.path.exists(output_dir):\n",
    "\t\tos.makedirs(output_dir)\n",
    "\n",
    "def crop_and_save(image, bbox, label, page_num, bbox_num):\n",
    "\t\tx1, y1, x2, y2 = bbox\n",
    "\t\tif y2-y1 > 10 and x2-x1 > 10:\n",
    "\t\t\tcropped_image = image[y1:y2, x1:x2]\n",
    "\t\t\tfilename = f\"{page_num}-{bbox_num}_{label}.png\"\n",
    "\t\t\tcv2.imwrite(os.path.join(output_dir, filename), cropped_image)\n",
    "\n",
    "for page_num, page in enumerate(pages_blocks):\n",
    "\tfor block_id in page:\n",
    "\t\tpos = block_id[0]\n",
    "\t\tlabel = block_id[1]\n",
    "\t\tbbox = block_id[2]\n",
    "\t\tif label in ['Text', 'Title', 'Section-header']:\n",
    "\t\t\tcrop_and_save(images[page_num], bbox, label, page_num+2, pos)\n",
    "\t\telif label == 'Table':\n",
    "\t\t\ttable_locations.append(page_num+2)\n",
    "\t\t\tcrop_and_save(images[page_num], bbox, label, page_num+2, pos)"
   ]
  },
  {
   "cell_type": "code",
   "execution_count": 10,
   "metadata": {},
   "outputs": [
    {
     "data": {
      "image/png": "[encoded data removed]",
      "text/plain": [
       "<Figure size 640x480 with 1 Axes>"
      ]
     },
     "metadata": {},
     "output_type": "display_data"
    }
   ],
   "source": [
    "%matplotlib inline\n",
    "import matplotlib.pyplot as plt\n",
    "import cv2\n",
    "import numpy as np\n",
    "\n",
    "# Load the image\n",
    "img = cv2.imread('original_images/2.png')\n",
    "\n",
    "# Loop over the bounding boxes\n",
    "for box in order_predictions[0].bboxes:\n",
    "    # Extract the bounding box coordinates\n",
    "    x1, y1, x2, y2 = box.bbox\n",
    "    position = box.position\n",
    "\n",
    "    # Draw the bounding box\n",
    "    cv2.rectangle(img, (int(x1), int(y1)), (int(x2), int(y2)), (0, 255, 0), 2)\n",
    "\n",
    "    # Write the position on the image\n",
    "    cv2.putText(img, str(position), (int(x1), int(y1 - 10)), cv2.FONT_HERSHEY_SIMPLEX, 0.5, (0, 0, 255), 2)\n",
    "\n",
    "# Save the output image\n",
    "cv2.imwrite('output.jpg', img)\n",
    "plt.imshow(cv2.cvtColor(img, cv2.COLOR_BGR2RGB))\n",
    "plt.show()"
   ]
  },
  {
   "cell_type": "markdown",
   "metadata": {},
   "source": [
    "### Store relevant text areas"
   ]
  },
  {
   "cell_type": "code",
   "execution_count": 10,
   "metadata": {},
   "outputs": [
    {
     "name": "stdout",
     "output_type": "stream",
     "text": [
      "Tables located in page numbers: {5}\n",
      "Figures located in page numbers: {2, 3, 4, 5, 6}\n"
     ]
    }
   ],
   "source": [
    "paths = sorted([f'original_images/{path}' for path in os.listdir('original_images')])\n",
    "images = [cv2.imread(path) for path in paths]\n",
    "output_dir = 'cropped_images'\n",
    "table_locations = []\n",
    "figure_locations = []\n",
    "\n",
    "if not os.path.exists(output_dir):\n",
    "\t\tos.makedirs(output_dir)\n",
    "\n",
    "def crop_and_save(image, bbox, label, page_num, bbox_num):\n",
    "\t\tx1, y1, x2, y2 = bbox\n",
    "\t\tif y2-y1 > 10 and x2-x1 > 10:\n",
    "\t\t\tcropped_image = image[y1:y2, x1:x2]\n",
    "\t\t\tfilename = f\"{page_num}-{bbox_num}_{label}.png\"\n",
    "\t\t\tcv2.imwrite(os.path.join(output_dir, filename), cropped_image)\n",
    "\n",
    "for page_num, page in enumerate(layout_predictions):\n",
    "\tfor bbox_num, bbox in enumerate(page.bboxes):\n",
    "\t\tlabel = bbox.label\n",
    "\t\tif label in ['Text', 'Title', 'Section-header']:\n",
    "\t\t\tcrop_and_save(images[page_num], bbox.bbox, label, page_num+2, bbox_num)\n",
    "\t\telif label == 'Table':\n",
    "\t\t\ttable_locations.append(page_num+2)\n",
    "\t\t\tcrop_and_save(images[page_num], bbox.bbox, label, page_num+2, bbox_num)\n",
    "\t\telif label == 'Figure':\n",
    "\t\t\tfigure_locations.append(page_num+2)\n",
    "\t\t\tcrop_and_save(images[page_num], bbox.bbox, label, page_num+2, bbox_num)\n",
    "\n",
    "table_locations = set(table_locations)\n",
    "figure_locations = set(figure_locations)\n",
    "print(f'Tables located in page numbers: {table_locations}')\n",
    "print(f'Figures located in page numbers: {figure_locations}')"
   ]
  },
  {
   "cell_type": "markdown",
   "metadata": {},
   "source": [
    "### Better OCR"
   ]
  },
  {
   "cell_type": "markdown",
   "metadata": {},
   "source": [
    "#### Text"
   ]
  },
  {
   "cell_type": "code",
   "execution_count": 10,
   "metadata": {},
   "outputs": [],
   "source": [
    "with open('extracted_text.txt', 'r+', encoding='utf-8') as file:\n",
    "\tlines = [line for line in file.readlines() if line.strip()]\n",
    "\tfile.seek(0)\n",
    "\tfile.writelines(lines)\n",
    "\tfile.truncate()"
   ]
  },
  {
   "cell_type": "code",
   "execution_count": 8,
   "metadata": {},
   "outputs": [
    {
     "name": "stderr",
     "output_type": "stream",
     "text": [
      "Detecting bboxes: 100%|██████████| 2/2 [00:04<00:00,  2.24s/it]\n",
      "Recognizing Text:   0%|          | 0/1 [00:00<?, ?it/s]/home/zeus/miniconda3/envs/cloudspace/lib/python3.10/site-packages/transformers/generation/utils.py:1518: UserWarning: You have modified the pretrained model configuration to control generation. This is a deprecated strategy to control generation and will be removed soon, in a future version. Please use and modify the model generation configuration (see https://huggingface.co/docs/transformers/generation_strategies#default-text-generation-configuration )\n",
      "  warnings.warn(\n",
      "Recognizing Text: 100%|██████████| 1/1 [00:05<00:00,  5.06s/it]\n"
     ]
    }
   ],
   "source": [
    "paths = sorted([f'cropped_images/{path}' for path in os.listdir('cropped_images') if not path.endswith(\"_Table.png\") and not path.endswith(\"_Figure.png\")])\n",
    "\n",
    "predictions = run_surya(paths)"
   ]
  },
  {
   "cell_type": "code",
   "execution_count": 9,
   "metadata": {},
   "outputs": [],
   "source": [
    "with open('extracted_text.txt', 'w', encoding='utf-8') as f:\n",
    "  for page in predictions:\n",
    "    for text_line in page.text_lines:\n",
    "      f.write(text_line.text + \"\\n\")"
   ]
  },
  {
   "cell_type": "markdown",
   "metadata": {},
   "source": [
    "#### Tables"
   ]
  },
  {
   "cell_type": "markdown",
   "metadata": {},
   "source": [
    "##### Table #1"
   ]
  },
  {
   "cell_type": "code",
   "execution_count": 11,
   "metadata": {},
   "outputs": [
    {
     "name": "stderr",
     "output_type": "stream",
     "text": [
      "Detecting bboxes: 100%|██████████| 1/1 [00:00<00:00,  5.16it/s]\n"
     ]
    },
    {
     "name": "stderr",
     "output_type": "stream",
     "text": [
      "Recognizing Text:   0%|          | 0/1 [00:00<?, ?it/s]/home/zeus/miniconda3/envs/cloudspace/lib/python3.10/site-packages/transformers/generation/utils.py:1518: UserWarning: You have modified the pretrained model configuration to control generation. This is a deprecated strategy to control generation and will be removed soon, in a future version. Please use and modify the model generation configuration (see https://huggingface.co/docs/transformers/generation_strategies#default-text-generation-configuration )\n",
      "  warnings.warn(\n",
      "Recognizing Text: 100%|██████████| 1/1 [00:02<00:00,  2.42s/it]\n"
     ]
    }
   ],
   "source": [
    "paths = sorted([f'cropped_images/{path}' for path in os.listdir('cropped_images') if path.endswith(\"_Table.png\")])\n",
    "\n",
    "predictions = run_surya(paths)"
   ]
  },
  {
   "cell_type": "code",
   "execution_count": 12,
   "metadata": {},
   "outputs": [],
   "source": [
    "table_page_nums = ','.join(map(str, list(table_locations)))"
   ]
  },
  {
   "cell_type": "code",
   "execution_count": 13,
   "metadata": {},
   "outputs": [],
   "source": [
    "table_text = \"\"\n",
    "for text_line in predictions[0].text_lines:\n",
    "\ttable_text += f\"{text_line.text}\\n\""
   ]
  },
  {
   "cell_type": "code",
   "execution_count": 14,
   "metadata": {},
   "outputs": [
    {
     "data": {
      "text/plain": [
       "'5'"
      ]
     },
     "execution_count": 14,
     "metadata": {},
     "output_type": "execute_result"
    }
   ],
   "source": [
    "table_page_nums"
   ]
  },
  {
   "cell_type": "code",
   "execution_count": 20,
   "metadata": {},
   "outputs": [
    {
     "data": {
      "text/html": [
       "<div>\n",
       "<style scoped>\n",
       "    .dataframe tbody tr th:only-of-type {\n",
       "        vertical-align: middle;\n",
       "    }\n",
       "\n",
       "    .dataframe tbody tr th {\n",
       "        vertical-align: top;\n",
       "    }\n",
       "\n",
       "    .dataframe thead th {\n",
       "        text-align: right;\n",
       "    }\n",
       "</style>\n",
       "<table border=\"1\" class=\"dataframe\">\n",
       "  <thead>\n",
       "    <tr style=\"text-align: right;\">\n",
       "      <th></th>\n",
       "      <th>التفير %</th>\n",
       "      <th>العام المالي 2021</th>\n",
       "      <th>العام المالي 2022</th>\n",
       "      <th>مليون ريال سعودي</th>\n",
       "    </tr>\n",
       "  </thead>\n",
       "  <tbody>\n",
       "    <tr>\n",
       "      <th>3</th>\n",
       "      <td>8.1%</td>\n",
       "      <td>1,166.1</td>\n",
       "      <td>1,071.4</td>\n",
       "      <td>البيرادات التشغيلية</td>\n",
       "    </tr>\n",
       "    <tr>\n",
       "      <th>4</th>\n",
       "      <td>17.3%</td>\n",
       "      <td>495.5</td>\n",
       "      <td>581.1</td>\n",
       "      <td>المصاريف التشغيلية</td>\n",
       "    </tr>\n",
       "    <tr>\n",
       "      <th>5</th>\n",
       "      <td>26.9%</td>\n",
       "      <td>670.6</td>\n",
       "      <td>490.3</td>\n",
       "      <td>(EBITDA)ﺍﻟﻤﺮﺑﺎﺡ ﻗﺒﻞ ﺍﻟﻔﻮﺍﺋﺪ ﻭﺍﻟﻀﺮﺍﺋﺐ ﻭﺍﻟﺪﺳﺘﻬﻠﺪ...</td>\n",
       "    </tr>\n",
       "    <tr>\n",
       "      <th>6</th>\n",
       "      <td></td>\n",
       "      <td>58%</td>\n",
       "      <td>46%</td>\n",
       "      <td>(EBITDA) ءﺎﻫﺎﻣﺶ ﻗﺒﻞ ﺍﻟﻔﻮﺍﺋﺪ ﻭﺍﻟﻀﺮﺍﺋﺐ ﻭﺍﻟﺪﺳﺘﻬﻠﺘ...</td>\n",
       "    </tr>\n",
       "    <tr>\n",
       "      <th>7</th>\n",
       "      <td>10.8%</td>\n",
       "      <td>57.0</td>\n",
       "      <td>63.2</td>\n",
       "      <td>ﻣﺼﺮﻭﻓﺎﺕ ﺍﻟﺪﺳﺘﻬﻠﻨﻚ ﻭﺍﻟﺒﻄﻔﺎﺀ</td>\n",
       "    </tr>\n",
       "    <tr>\n",
       "      <th>8</th>\n",
       "      <td>30.4%</td>\n",
       "      <td>613.6</td>\n",
       "      <td>427.1</td>\n",
       "      <td>(EBIT) النرياح قبل احتساب مصاريف الفوائد والزك...</td>\n",
       "    </tr>\n",
       "    <tr>\n",
       "      <th>9</th>\n",
       "      <td></td>\n",
       "      <td>53%</td>\n",
       "      <td>40%</td>\n",
       "      <td>(EBIT) ﺐﺋاﻫﺎﻣﺶ ﺍﻟﻔﺮﻳﺎﺡ ﻗﺒﻞ ﺍﺣﺘﺴﺎﺏ ﻣﺼﺎﺭﻳﻒ ﺍﻟﻔﻮﺍ...</td>\n",
       "    </tr>\n",
       "    <tr>\n",
       "      <th>10</th>\n",
       "      <td>72.1%</td>\n",
       "      <td>43.6</td>\n",
       "      <td>75.1</td>\n",
       "      <td>إيرادات الدستثمارات وإيرادات اخرى</td>\n",
       "    </tr>\n",
       "    <tr>\n",
       "      <th>11</th>\n",
       "      <td>202.5%</td>\n",
       "      <td>(3.3)</td>\n",
       "      <td>(9.9)</td>\n",
       "      <td>الخسارة من الشركات الزميلة</td>\n",
       "    </tr>\n",
       "    <tr>\n",
       "      <th>12</th>\n",
       "      <td>2.2%</td>\n",
       "      <td>66.2</td>\n",
       "      <td>67.7</td>\n",
       "      <td>ﺍﻟﺰﻛﺎﺓ</td>\n",
       "    </tr>\n",
       "    <tr>\n",
       "      <th>13</th>\n",
       "      <td>27.8%</td>\n",
       "      <td>587.7</td>\n",
       "      <td>424.6</td>\n",
       "      <td>صافى الربح بعد الزكاة</td>\n",
       "    </tr>\n",
       "    <tr>\n",
       "      <th>14</th>\n",
       "      <td></td>\n",
       "      <td>50%</td>\n",
       "      <td>40%</td>\n",
       "      <td>ﻫﺎﺻﺶ ﺻﺎﺿﻰ ﺍﻟﺮﻳﺢ ﺑﻌﺪ ﺍﻟﺰﻛﺎﺓ</td>\n",
       "    </tr>\n",
       "    <tr>\n",
       "      <th>15</th>\n",
       "      <td></td>\n",
       "      <td>4.90</td>\n",
       "      <td>3.54</td>\n",
       "      <td>ربحية السهم (ريال سعودي)</td>\n",
       "    </tr>\n",
       "  </tbody>\n",
       "</table>\n",
       "</div>"
      ],
      "text/plain": [
       "   التفير % العام المالي 2021 العام المالي 2022  \\\n",
       "3      8.1%           1,166.1           1,071.4   \n",
       "4     17.3%             495.5             581.1   \n",
       "5     26.9%             670.6             490.3   \n",
       "6                         58%               46%   \n",
       "7     10.8%              57.0              63.2   \n",
       "8     30.4%             613.6             427.1   \n",
       "9                         53%               40%   \n",
       "10    72.1%              43.6              75.1   \n",
       "11   202.5%             (3.3)             (9.9)   \n",
       "12     2.2%              66.2              67.7   \n",
       "13    27.8%             587.7             424.6   \n",
       "14                        50%               40%   \n",
       "15                       4.90              3.54   \n",
       "\n",
       "                                     مليون ريال سعودي  \n",
       "3                                 البيرادات التشغيلية  \n",
       "4                                  المصاريف التشغيلية  \n",
       "5   (EBITDA)ﺍﻟﻤﺮﺑﺎﺡ ﻗﺒﻞ ﺍﻟﻔﻮﺍﺋﺪ ﻭﺍﻟﻀﺮﺍﺋﺐ ﻭﺍﻟﺪﺳﺘﻬﻠﺪ...  \n",
       "6   (EBITDA) ءﺎﻫﺎﻣﺶ ﻗﺒﻞ ﺍﻟﻔﻮﺍﺋﺪ ﻭﺍﻟﻀﺮﺍﺋﺐ ﻭﺍﻟﺪﺳﺘﻬﻠﺘ...  \n",
       "7                          ﻣﺼﺮﻭﻓﺎﺕ ﺍﻟﺪﺳﺘﻬﻠﻨﻚ ﻭﺍﻟﺒﻄﻔﺎﺀ  \n",
       "8   (EBIT) النرياح قبل احتساب مصاريف الفوائد والزك...  \n",
       "9   (EBIT) ﺐﺋاﻫﺎﻣﺶ ﺍﻟﻔﺮﻳﺎﺡ ﻗﺒﻞ ﺍﺣﺘﺴﺎﺏ ﻣﺼﺎﺭﻳﻒ ﺍﻟﻔﻮﺍ...  \n",
       "10                  إيرادات الدستثمارات وإيرادات اخرى  \n",
       "11                         الخسارة من الشركات الزميلة  \n",
       "12                                             ﺍﻟﺰﻛﺎﺓ  \n",
       "13                              صافى الربح بعد الزكاة  \n",
       "14                         ﻫﺎﺻﺶ ﺻﺎﺿﻰ ﺍﻟﺮﻳﺢ ﺑﻌﺪ ﺍﻟﺰﻛﺎﺓ  \n",
       "15                           ربحية السهم (ريال سعودي)  "
      ]
     },
     "execution_count": 20,
     "metadata": {},
     "output_type": "execute_result"
    }
   ],
   "source": [
    "table_page_nums = ','.join(map(str, list(table_locations)))\n",
    "\n",
    "tables = camelot.read_pdf('data/pdf1/Press Release - 2022 Results (Stock Market).pdf', flavor='stream', pages=table_page_nums)\n",
    "df_1 = tables[0].df\n",
    "\n",
    "p='\\n'.join(table_text.split('\\n')[8:])\n",
    "\n",
    "column_vals = []\n",
    "lines = p.split('\\n')\n",
    "for a in range(len(lines)):\n",
    "  if not is_number(lines[a]) and len(lines[a]) > 1:\n",
    "    column_vals.append(lines[a])\n",
    "\n",
    "rows_offset = df_1.shape[0] - len(column_vals)\n",
    "\n",
    "df_1.loc[rows_offset:, 4] = column_vals\n",
    "df_1[3] = df_1[3] + df_1[4]\n",
    "df_1=df_1.drop(columns=4)\n",
    "df_1.columns = headers\n",
    "df_filtered_1 = df_1.loc[3:]\n",
    "\n",
    "df_filtered_1 = clean_text(df_filtered_1.copy(), slice=True)\n",
    "df_filtered_1 = clean_text(df_filtered_1.copy())\n",
    "\n",
    "df_filtered_1"
   ]
  },
  {
   "cell_type": "markdown",
   "metadata": {},
   "source": [
    "##### Table #2"
   ]
  },
  {
   "cell_type": "code",
   "execution_count": 41,
   "metadata": {},
   "outputs": [],
   "source": [
    "table_text = \"\"\n",
    "for text_line in predictions[1].text_lines:\n",
    "\ttable_text += f\"{text_line.text}\\n\""
   ]
  },
  {
   "cell_type": "code",
   "execution_count": 44,
   "metadata": {},
   "outputs": [
    {
     "data": {
      "text/html": [
       "<div>\n",
       "<style scoped>\n",
       "    .dataframe tbody tr th:only-of-type {\n",
       "        vertical-align: middle;\n",
       "    }\n",
       "\n",
       "    .dataframe tbody tr th {\n",
       "        vertical-align: top;\n",
       "    }\n",
       "\n",
       "    .dataframe thead th {\n",
       "        text-align: right;\n",
       "    }\n",
       "</style>\n",
       "<table border=\"1\" class=\"dataframe\">\n",
       "  <thead>\n",
       "    <tr style=\"text-align: right;\">\n",
       "      <th></th>\n",
       "      <th>التفير %</th>\n",
       "      <th>العام المالي 2021</th>\n",
       "      <th>العام المالي 2022</th>\n",
       "      <th>مليون ريال سعودي</th>\n",
       "    </tr>\n",
       "  </thead>\n",
       "  <tbody>\n",
       "    <tr>\n",
       "      <th>4</th>\n",
       "      <td>2358.1%</td>\n",
       "      <td>86.2</td>\n",
       "      <td>2,118.8</td>\n",
       "      <td>النقد وما يعادله</td>\n",
       "    </tr>\n",
       "    <tr>\n",
       "      <th>5</th>\n",
       "      <td>74.9%</td>\n",
       "      <td>2,687.0</td>\n",
       "      <td>674.4</td>\n",
       "      <td>الدستثمارات</td>\n",
       "    </tr>\n",
       "    <tr>\n",
       "      <th>6</th>\n",
       "      <td>▲ \\n \\n535.</td>\n",
       "      <td>770.1</td>\n",
       "      <td>4,896.8</td>\n",
       "      <td>أصول أخرى</td>\n",
       "    </tr>\n",
       "    <tr>\n",
       "      <th>7</th>\n",
       "      <td>117.0%</td>\n",
       "      <td>3,543.3</td>\n",
       "      <td>7,690.0</td>\n",
       "      <td>إجمالى الموجودات</td>\n",
       "    </tr>\n",
       "    <tr>\n",
       "      <th>8</th>\n",
       "      <td>900.3%</td>\n",
       "      <td>450.9</td>\n",
       "      <td>4,510.4</td>\n",
       "      <td>إجمالى المطلوبات</td>\n",
       "    </tr>\n",
       "    <tr>\n",
       "      <th>9</th>\n",
       "      <td>2.8%</td>\n",
       "      <td>3,092.4</td>\n",
       "      <td>3,179.7</td>\n",
       "      <td>إجمالى حقوق الملكية</td>\n",
       "    </tr>\n",
       "  </tbody>\n",
       "</table>\n",
       "</div>"
      ],
      "text/plain": [
       "      التفير % العام المالي 2021 العام المالي 2022     مليون ريال سعودي\n",
       "4      2358.1%              86.2           2,118.8     النقد وما يعادله\n",
       "5        74.9%           2,687.0             674.4         الدستثمارات \n",
       "6  ▲ \\n \\n535.             770.1           4,896.8            أصول أخرى\n",
       "7       117.0%           3,543.3           7,690.0    إجمالى الموجودات \n",
       "8       900.3%             450.9           4,510.4    إجمالى المطلوبات \n",
       "9         2.8%           3,092.4           3,179.7  إجمالى حقوق الملكية"
      ]
     },
     "execution_count": 44,
     "metadata": {},
     "output_type": "execute_result"
    }
   ],
   "source": [
    "tables = camelot.read_pdf('data/pdf1/Press Release - 2022 Results (Stock Market).pdf', flavor='stream', pages=table_page_nums, table_areas=['69,414,588,210'])\n",
    "df_2 = tables[0].df\n",
    "\n",
    "p='\\n'.join(table_text.split('\\n')[5:])\n",
    "\n",
    "column_vals = []\n",
    "lines = p.split('\\n')\n",
    "for a in range(3, len(lines)):\n",
    "  if not is_number(lines[a]) and len(lines[a]) > 1:\n",
    "    column_vals.append(lines[a])\n",
    "\n",
    "rows_offset = df_2.shape[0] - len(column_vals)\n",
    "\n",
    "df_2.iloc[rows_offset:, 4] = column_vals\n",
    "df_2[3] = df_2[3] + df_2[4]\n",
    "df_2=df_2.drop(columns=4)\n",
    "df_2.columns = headers\n",
    "df_filtered_2 = df_2.iloc[4:]\n",
    "\n",
    "df_filtered_2 = clean_text(df_filtered_2.copy(), slice=True)\n",
    "df_filtered_2 = clean_text(df_filtered_2.copy())\n",
    "\n",
    "df_filtered_2"
   ]
  },
  {
   "cell_type": "code",
   "execution_count": null,
   "metadata": {},
   "outputs": [],
   "source": [
    "with open('data/pdf1/extracted_text.txt', 'a', encoding='utf-8') as f:\n",
    "  for _, row in df_filtered_1.iterrows():\n",
    "    f.write(f\"اﻟﺮﺑﺢ و اﻟﺨﺴﺎرة {row['مليون ريال سعودي']}: 'العام المالي 2022 {row['العام المالي 2022']}, العام المالي 2021 {row['العام المالي 2021']}, التفير {row['التفير %']}. \\n\")"
   ]
  },
  {
   "cell_type": "code",
   "execution_count": null,
   "metadata": {},
   "outputs": [],
   "source": [
    "with open('data/pdf1/extracted_text.txt', 'a', encoding='utf-8') as f:\n",
    "  for _, row in df_filtered_2.iterrows():\n",
    "    f.write(f\"اﻟﻤﺮﻛﺰ اﻟﻤﺎﻟﻲ {row['مليون ريال سعودي']}: 'العام المالي 2022 {row['العام المالي 2022']}, العام المالي 2021 {row['العام المالي 2021']}, التفير {row['التفير %']}. \\n\")"
   ]
  }
 ],
 "metadata": {
  "kernelspec": {
   "display_name": "cloudspace",
   "language": "python",
   "name": "python3"
  },
  "language_info": {
   "codemirror_mode": {
    "name": "ipython",
    "version": 3
   },
   "file_extension": ".py",
   "mimetype": "text/x-python",
   "name": "python",
   "nbconvert_exporter": "python",
   "pygments_lexer": "ipython3",
   "version": "3.10.10"
  }
 },
 "nbformat": 4,
 "nbformat_minor": 2
}
